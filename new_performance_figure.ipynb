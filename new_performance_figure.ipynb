{
 "cells": [
  {
   "cell_type": "code",
   "execution_count": 6,
   "metadata": {},
   "outputs": [
    {
     "name": "stderr",
     "output_type": "stream",
     "text": [
      "/usr/local/lib/python2.7/site-packages/matplotlib/__init__.py:1405: UserWarning: \n",
      "This call to matplotlib.use() has no effect because the backend has already\n",
      "been chosen; matplotlib.use() must be called *before* pylab, matplotlib.pyplot,\n",
      "or matplotlib.backends is imported for the first time.\n",
      "\n",
      "  warnings.warn(_use_error_msg)\n"
     ]
    }
   ],
   "source": [
    "import numpy as np\n",
    "import matplotlib as mpl\n",
    "mpl.use(\"Agg\")\n",
    "from matplotlib import rc\n",
    "rc('font',**{'family':'serif'})\n",
    "rc('text', usetex=True)\n",
    "from matplotlib import pyplot as plt\n",
    "%matplotlib notebook"
   ]
  },
  {
   "cell_type": "code",
   "execution_count": 72,
   "metadata": {
    "collapsed": true
   },
   "outputs": [],
   "source": [
    "BENCHMARKS_DIR = 'bifrost/test/benchmarks/'\n",
    "SERIAL_BENCHMARKS_DIR = BENCHMARKS_DIR + 'performance_vs_serial/'"
   ]
  },
  {
   "cell_type": "code",
   "execution_count": 73,
   "metadata": {},
   "outputs": [],
   "source": [
    "benchmarks_file = open(SERIAL_BENCHMARKS_DIR + 'benchmarks5.log.txt', 'r')\n",
    "# FFT's/2, size multiplier, gulp size, gulp frame read, gulp frame fft, ..., ..., speedup\n",
    "aws_benchmarks = np.genfromtxt(\n",
    "    (\",\".join(ln.split(',')[1:-1]) for ln in benchmarks_file),\n",
    "    dtype=np.float32,\n",
    "    delimiter=',');"
   ]
  },
  {
   "cell_type": "code",
   "execution_count": 108,
   "metadata": {
    "collapsed": true
   },
   "outputs": [],
   "source": [
    "i_map = {\n",
    "    'fft_number': 0,\n",
    "    'size_multiplier': 1,\n",
    "    'gulp_size': 2,\n",
    "    'gulp_nframe_read': 3,\n",
    "    'gulp_nframe_fft': 4,\n",
    "    'bf_time': 5,\n",
    "    'sk_time': 6,\n",
    "    'speedup': 7\n",
    "}"
   ]
  },
  {
   "cell_type": "markdown",
   "metadata": {},
   "source": [
    "# Log 2 columns for easy display in imshow:"
   ]
  },
  {
   "cell_type": "code",
   "execution_count": 137,
   "metadata": {},
   "outputs": [
    {
     "ename": "IndexError",
     "evalue": "index 4 is out of bounds for axis 0 with size 4",
     "output_type": "error",
     "traceback": [
      "\u001b[0;31m\u001b[0m",
      "\u001b[0;31mIndexError\u001b[0mTraceback (most recent call last)",
      "\u001b[0;32m<ipython-input-137-dbeee249cae8>\u001b[0m in \u001b[0;36m<module>\u001b[0;34m()\u001b[0m\n\u001b[1;32m     33\u001b[0m \u001b[0;34m\u001b[0m\u001b[0m\n\u001b[1;32m     34\u001b[0m \u001b[0;34m\u001b[0m\u001b[0m\n\u001b[0;32m---> 35\u001b[0;31m \u001b[0mdisplay_plot\u001b[0m\u001b[0;34m[\u001b[0m\u001b[0mdata_to_plot\u001b[0m\u001b[0;34m[\u001b[0m\u001b[0;34m:\u001b[0m\u001b[0;34m,\u001b[0m \u001b[0;36m0\u001b[0m\u001b[0;34m]\u001b[0m\u001b[0;34m.\u001b[0m\u001b[0mastype\u001b[0m\u001b[0;34m(\u001b[0m\u001b[0mnp\u001b[0m\u001b[0;34m.\u001b[0m\u001b[0mint\u001b[0m\u001b[0;34m)\u001b[0m\u001b[0;34m,\u001b[0m \u001b[0mdata_to_plot\u001b[0m\u001b[0;34m[\u001b[0m\u001b[0;34m:\u001b[0m\u001b[0;34m,\u001b[0m \u001b[0;36m1\u001b[0m\u001b[0;34m]\u001b[0m\u001b[0;34m.\u001b[0m\u001b[0mastype\u001b[0m\u001b[0;34m(\u001b[0m\u001b[0mnp\u001b[0m\u001b[0;34m.\u001b[0m\u001b[0mint\u001b[0m\u001b[0;34m)\u001b[0m\u001b[0;34m]\u001b[0m \u001b[0;34m=\u001b[0m \u001b[0mdata_to_plot\u001b[0m\u001b[0;34m[\u001b[0m\u001b[0;34m:\u001b[0m\u001b[0;34m,\u001b[0m \u001b[0;36m2\u001b[0m\u001b[0;34m]\u001b[0m\u001b[0;34m\u001b[0m\u001b[0m\n\u001b[0m",
      "\u001b[0;31mIndexError\u001b[0m: index 4 is out of bounds for axis 0 with size 4"
     ]
    }
   ],
   "source": [
    "cur_benchmarks = np.copy(aws_benchmarks)\n",
    "cur_benchmarks[:, i_map['gulp_size']] = np.log2(cur_benchmarks[:, i_map['gulp_size']]/32768)\n",
    "cur_benchmarks[:, i_map['gulp_nframe_fft']] = np.log2(cur_benchmarks[:, i_map['gulp_nframe_fft']])\n",
    "\n",
    "x_axis = 'gulp_size'\n",
    "y_axis = 'gulp_nframe_fft'\n",
    "\n",
    "data_slice = {\n",
    "    'fft_number': 1,\n",
    "    'size_multiplier': 1,\n",
    "    'gulp_nframe_read': 2\n",
    "}\n",
    "\n",
    "index_possible_choices = [cur_benchmarks[:, i_map[key]] == data_slice[key] for key in data_slice.keys()]\n",
    "\n",
    "index_shared_choices = np.bitwise_and.reduce(index_choice_list)\n",
    "\n",
    "indices = np.argwhere(index_shared_choices[:])\n",
    "\n",
    "data_to_plot = cur_benchmarks[indices, [i_map[x_axis], i_map[y_axis], -1]]\n",
    "\n",
    "\n",
    "\n",
    "range_array = lambda ar: np.max(ar) - np.min(ar)\n",
    "\n",
    "shape_display_x = int(range_array(data_to_plot[:, 0]))\n",
    "shape_display_y = int(range_array(data_to_plot[:, 1]))\n",
    "\n",
    "# Last axis is always x-axis in an imshow!\n",
    "plot_shape = (shape_display_y, shape_display_x)\n",
    "\n",
    "display_plot = np.zeros(plot_shape)\n",
    "\n",
    "\n",
    "#display_plot[data_to_plot[:, 0].astype(np.int), data_to_plot[:, 1].astype(np.int)] = data_to_plot[:, 2]"
   ]
  },
  {
   "cell_type": "code",
   "execution_count": 136,
   "metadata": {},
   "outputs": [
    {
     "data": {
      "text/plain": [
       "array([ 0.,  1.,  3.,  2.,  4.,  1.,  0.,  0.,  0.,  1.,  2.,  2.,  3.,\n",
       "        4.,  3.,  4.,  1.,  2.,  1.,  3.,  2.,  4.,  4.,  3.,  2.,  3.,\n",
       "        0.,  4.,  1.,  0.], dtype=float32)"
      ]
     },
     "execution_count": 136,
     "metadata": {},
     "output_type": "execute_result"
    }
   ],
   "source": [
    "data_to_plot[:, 1]"
   ]
  },
  {
   "cell_type": "code",
   "execution_count": 132,
   "metadata": {
    "scrolled": false
   },
   "outputs": [
    {
     "ename": "SyntaxError",
     "evalue": "EOF while scanning triple-quoted string literal (<ipython-input-132-7b0ded11d337>, line 24)",
     "output_type": "error",
     "traceback": [
      "\u001b[0;36m  File \u001b[0;32m\"<ipython-input-132-7b0ded11d337>\"\u001b[0;36m, line \u001b[0;32m24\u001b[0m\n\u001b[0;31m    \"\"\"\u001b[0m\n\u001b[0m       ^\u001b[0m\n\u001b[0;31mSyntaxError\u001b[0m\u001b[0;31m:\u001b[0m EOF while scanning triple-quoted string literal\n"
     ]
    }
   ],
   "source": [
    "%matplotlib notebook\n",
    "\n",
    "fig, ax1 = plt.subplots(1,1)\n",
    "from matplotlib.colors import LogNorm\n",
    "norm = LogNorm(vmin=np.min(rel_display_plot), vmax=np.max(rel_display_plot))\n",
    "im = ax1.imshow(\n",
    "    plot_z_axis,\n",
    "    cmap='summer_r', origin='lower', norm=norm)\n",
    "\"\"\"\n",
    "ax1.set_xticks([i for i in range(5)])\n",
    "ax1.set_xticklabels([2**i for i in range(1, 6)])\n",
    "ax1.set_xlabel(r'Gulp Size ($\\times$128 kiB)')\n",
    "ax1.set_yticks([0, 1, 2, 3, 4])\n",
    "ax1.set_yticklabels([1, 2, 4, 8, 16])\n",
    "ax1.set_ylabel(r'Number Gulps''\\n'r'per batch',rotation=0, labelpad=40)\n",
    "cbar = fig.colorbar(im, shrink=0.4, ticks=[np.min(rel_display_plot), 1.0, 2])\n",
    "cbar.ax.set_yticklabels(['Slower', 'Same', 'Faster'])  # vertically oriented colorbar\n",
    "cbar.ax.text(13, 0.4, 'Speedup\\nvs.\\nskcuda', rotation=0, \n",
    "        horizontalalignment='center')\n",
    "for (j,i),label in np.ndenumerate(rel_display_plot.T):\n",
    "    ax1.text(i, j, r'$\\times$%.1f'%label, ha='center', va='center')\n",
    "\n",
    "fig.subplots_adjust(left=0.25)\n",
    "fig.savefig('bifrost/speedup.pdf', bbox_inches='tight')\n",
    "\"\"\""
   ]
  },
  {
   "cell_type": "markdown",
   "metadata": {},
   "source": [
    "# Caption ideas\n",
    "\n",
    "Should emphasize:\n",
    "- This pipeline was not tuned in any way, it is vanilla Bifrost code, with no core bindings set, and no block fusion enabled.\n",
    "- Not only do you get more speed for same effort, but you get greater functionality for same effort (bf.map!)\n",
    "- Easy to switch it to a real-time pipeline for a telescope\n",
    "- These plots aren't meant to show anything particular about when Bifrost is useful and when it isn't, they are supposed to show the trend of where Bifrost becomes very effective: large gulp sizes and large amounts of data.\n",
    "- Bottom slower for Bifrost because of the greater Python overhead incurred from small gulp sizes. Small effort tuning gulp sizes eliminates this.\n",
    "- Both pipelines are GPU-based FFT pipelines, controlled in Python. Similar (say exactly) source lines of code. Through pipeline-parallelism, Bifrost achieves a speedup using the same underlying cuFFT functionality.\n",
    "- Emphasize that a hand-tuned C or C++ pipeline compiled with optimization can be faster than Bifrost. However, due to the development effort associated with writing a stream-processing pipeline by hand, Bifrost is a competitive alternative."
   ]
  }
 ],
 "metadata": {
  "kernelspec": {
   "display_name": "Python 2",
   "language": "python",
   "name": "python2"
  },
  "language_info": {
   "codemirror_mode": {
    "name": "ipython",
    "version": 2
   },
   "file_extension": ".py",
   "mimetype": "text/x-python",
   "name": "python",
   "nbconvert_exporter": "python",
   "pygments_lexer": "ipython2",
   "version": "2.7.13"
  }
 },
 "nbformat": 4,
 "nbformat_minor": 2
}
